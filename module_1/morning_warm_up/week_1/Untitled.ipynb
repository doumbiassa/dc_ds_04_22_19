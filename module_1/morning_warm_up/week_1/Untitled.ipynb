{
 "cells": [
  {
   "cell_type": "markdown",
   "metadata": {},
   "source": [
    "### 1. Create a dictionary where each object contains a list of one float (Age) and one string (Family name) (at least 5 objects)\n",
    "\n",
    "Example:\n",
    "`{Charles: [23.4, \"Darwin\"], Alan: [42.5, \"Turing\"]}`\n",
    "\n",
    "a_dict = {'Ed': [2410, 'Duke'], 'Charls': [125.3, 'Sall'], 'John': [1978, 'Adam'], 'John': [1978, 'Adam'],'Dominic': [908, 'Smith']}\n",
    "### 2. Delete one object from the dictionary\n",
    "\n",
    "\n",
    "### 3. Replace the float number of one of your objects - we are changing a list entry inside a dictionary record! look at Darwin's new age\n",
    "\n",
    "Example:\n",
    "`{Charles: [99.73, \"Darwin\"], Alan: [42.5, \"Turing\"]}`\n",
    "\n",
    "\n",
    "### 4. write a for loop that goes through all records in the dictionary, prints the family name and assigns the float numbers into one merged list (see ages)\n",
    "\n",
    "`ages = [23.4, 22.9, 552.9]`\n",
    "\n",
    "### 5. Download your notebbok as a .py (regular python script) save it somewhere you know\n",
    "\n",
    "### 6. Go to terminal, navigate to the folder where you have saved the script and execute it through the terminal\n",
    "\n",
    "`use commandds: \n",
    "cd and \n",
    "python your_script.py`\n",
    "\n",
    "\n",
    "### [optional] Calculate with a for loop the median and mean of the ages list\n",
    "\n"
   ]
  },
  {
   "cell_type": "code",
   "execution_count": null,
   "metadata": {},
   "outputs": [],
   "source": []
  }
 ],
 "metadata": {
  "kernelspec": {
   "display_name": "Python 3",
   "language": "python",
   "name": "python3"
  },
  "language_info": {
   "codemirror_mode": {
    "name": "ipython",
    "version": 3
   },
   "file_extension": ".py",
   "mimetype": "text/x-python",
   "name": "python",
   "nbconvert_exporter": "python",
   "pygments_lexer": "ipython3",
   "version": "3.7.3"
  }
 },
 "nbformat": 4,
 "nbformat_minor": 2
}
