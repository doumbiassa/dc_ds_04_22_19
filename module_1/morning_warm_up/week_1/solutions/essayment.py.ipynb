{
 "cells": [
  {
   "cell_type": "code",
   "execution_count": 1,
   "metadata": {},
   "outputs": [],
   "source": [
    "# write a for loop that goes through all records in dictionary, prints the family name and assigns the float numbers into one merged list\n",
    "\n",
    "example_dict = {'Charls':[23.5, 'Smith'],'John': [33.2, 'Walker'],'Adam':[25.3, 'Morgan']}"
   ]
  },
  {
   "cell_type": "code",
   "execution_count": 2,
   "metadata": {},
   "outputs": [
    {
     "name": "stdout",
     "output_type": "stream",
     "text": [
      "Smith\n",
      "Walker\n",
      "Morgan\n",
      "[23.5, 33.2, 25.3]\n"
     ]
    }
   ],
   "source": [
    "ages = [] \n",
    "for i in example_dict:\n",
    "    print(example_dict[i][1])\n",
    "    ages.append(example_dict[i][0])\n",
    "print(ages)"
   ]
  },
  {
   "cell_type": "code",
   "execution_count": 4,
   "metadata": {},
   "outputs": [
    {
     "data": {
      "text/plain": [
       "23.5"
      ]
     },
     "execution_count": 4,
     "metadata": {},
     "output_type": "execute_result"
    }
   ],
   "source": [
    "example_dict['Charls'][0]"
   ]
  },
  {
   "cell_type": "code",
   "execution_count": null,
   "metadata": {},
   "outputs": [],
   "source": [
    "\n",
    "# Download your notebbok as a .py (regular python script) save it somewhere you know\n",
    "# go to terminal, navigate to the folder where you have saved the script and execute it through the terminal\n",
    "\n",
    "# (Optional) calculate with a for loop the median and mean of the ages list"
   ]
  },
  {
   "cell_type": "code",
   "execution_count": 34,
   "metadata": {},
   "outputs": [],
   "source": [
    "ages = [22.1, 34.2, 43.6,56.2,28.2,27,26,44,45,39,38]"
   ]
  },
  {
   "cell_type": "code",
   "execution_count": 35,
   "metadata": {},
   "outputs": [
    {
     "name": "stdout",
     "output_type": "stream",
     "text": [
      "36.663636363636364\n"
     ]
    }
   ],
   "source": [
    "summ = 0\n",
    "for i in range(len(ages)):\n",
    "    summ += ages[i]\n",
    "    mean = summ/len(ages)\n",
    "print(mean)"
   ]
  },
  {
   "cell_type": "code",
   "execution_count": 36,
   "metadata": {},
   "outputs": [
    {
     "name": "stdout",
     "output_type": "stream",
     "text": [
      "31.200000000000003\n"
     ]
    }
   ],
   "source": [
    "ages = [22.1, 34.2, 43.6,56.2,28.2,27,26,44,45,39,38, 22]\n",
    "ages = sorted(ages)\n",
    "for i in range(len(ages)):\n",
    "    if((i+1)/len(ages) >= 0.5):\n",
    "        if len(ages) %2 == 0:\n",
    "            median = (ages[i-1]+ages[i])/2\n",
    "            print(median)\n",
    "            break\n",
    "        else:\n",
    "            median = ages[i]\n",
    "            print(median)\n",
    "            break\n",
    "    #print(median)\n",
    "            "
   ]
  },
  {
   "cell_type": "code",
   "execution_count": 37,
   "metadata": {},
   "outputs": [
    {
     "data": {
      "text/plain": [
       "[22, 22.1, 26, 27, 28.2, 34.2, 38, 39, 43.6, 44, 45, 56.2]"
      ]
     },
     "execution_count": 37,
     "metadata": {},
     "output_type": "execute_result"
    }
   ],
   "source": [
    "ages"
   ]
  },
  {
   "cell_type": "code",
   "execution_count": null,
   "metadata": {},
   "outputs": [],
   "source": [
    "#  For loops and alternatives\n",
    "\n",
    "Given an array of integers, return the index of of the target number - try doing it with a for loop. Notice that the target number can repeat several times.\n",
    "\n",
    "\n",
    "### Example:\n",
    "\n",
    "Given nums = [2, 9, 11, 15], target = 9,\n",
    "\n",
    "Because nums[1] = 9\n",
    "\n",
    "return [1]."
   ]
  },
  {
   "cell_type": "code",
   "execution_count": 38,
   "metadata": {},
   "outputs": [
    {
     "name": "stdout",
     "output_type": "stream",
     "text": [
      "0\n",
      "1\n",
      "2\n",
      "1\n",
      "4\n",
      "5\n",
      "6\n",
      "7\n",
      "8\n",
      "9\n",
      "10\n"
     ]
    }
   ],
   "source": [
    "aList = [1, 2, 4,2, 3, 5, 7, 8, 10, 11, 15]\n",
    "for element in aList:\n",
    "   # print(aList.index(element))"
   ]
  },
  {
   "cell_type": "code",
   "execution_count": null,
   "metadata": {},
   "outputs": [],
   "source": [
    "#For loops and alternatives\n",
    "\n",
    "#Given an array of integers, return the index of of the target number - try doing it with a for loop. Notice that the target number can repeat several times.\n",
    "\n",
    "#Example:\n",
    "\n",
    "#Given nums = [2, 9, 11, 15], target = 9,\n",
    "\n",
    "#Because nums[1] = 9\n",
    "\n",
    "#return [1]."
   ]
  },
  {
   "cell_type": "code",
   "execution_count": 40,
   "metadata": {},
   "outputs": [
    {
     "name": "stdout",
     "output_type": "stream",
     "text": [
      "0\n",
      "1\n",
      "2\n",
      "3\n",
      "4\n",
      "5\n",
      "2\n",
      "4\n",
      "3\n"
     ]
    }
   ],
   "source": [
    "aList = [1,2,3,4,5,10,3,5,4]\n",
    "targetNum = 5\n",
    "for targetNum in aList:\n",
    "    print(aList.index(targetNum))"
   ]
  },
  {
   "cell_type": "code",
   "execution_count": null,
   "metadata": {},
   "outputs": [],
   "source": []
  }
 ],
 "metadata": {
  "kernelspec": {
   "display_name": "Python 3",
   "language": "python",
   "name": "python3"
  },
  "language_info": {
   "codemirror_mode": {
    "name": "ipython",
    "version": 3
   },
   "file_extension": ".py",
   "mimetype": "text/x-python",
   "name": "python",
   "nbconvert_exporter": "python",
   "pygments_lexer": "ipython3",
   "version": "3.7.3"
  }
 },
 "nbformat": 4,
 "nbformat_minor": 2
}
