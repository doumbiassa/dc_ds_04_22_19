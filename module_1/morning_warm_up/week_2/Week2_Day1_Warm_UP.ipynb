{
 "cells": [
  {
   "cell_type": "code",
   "execution_count": null,
   "metadata": {},
   "outputs": [],
   "source": [
    "### 1. Go to https://www.kaggle.com/russellyates88/suicide-rates-overview-1985-to-2016 and download the data \n",
    "\n",
    "### 2. Using command line rename the downloaded file to suicide_rates.csv then move the file (command line) to your repository \n",
    "`use 'mv' `\n",
    "\n",
    "### 3. Load the data into pandas df\n",
    "\n",
    "### 4. Pick only rows where country starts with U \n",
    "\n",
    "`use apply and lambda`\n",
    "\n",
    "### 5. Get the names of unique countries left `use pd.unique`\n",
    "\n",
    "### [Thoughts]: how would that be useful if we have duplicated values in a dataset? \n",
    "\n",
    "###  5.5. pick only 'United States' (without using apply or lambda - try using indexing)\n",
    "\n",
    "### 6. Group by age column and sum # suicides\n",
    "\n",
    "### 7. Change the age column to a categorical one \n",
    "`use astype`\n",
    "\n",
    "### 8. Re-order the categories so that 5-14 years appears first \n",
    "\n",
    "`use cat.reorder_categories`\n",
    "\n",
    "### 9. Draw a barplot of # suicides(y) per age-group (x) for 2015\n",
    "\n",
    "### 10. Save plot to visualization folder we have created - using plt\n",
    "\n",
    "### 11. Push all to your git branch."
   ]
  },
  {
   "cell_type": "code",
   "execution_count": 1,
   "metadata": {},
   "outputs": [
    {
     "name": "stderr",
     "output_type": "stream",
     "text": [
      "/anaconda3/lib/python3.7/site-packages/ipykernel_launcher.py:3: FutureWarning: read_table is deprecated, use read_csv instead, passing sep='\\t'.\n",
      "  This is separate from the ipykernel package so we can avoid doing imports until\n"
     ]
    }
   ],
   "source": [
    "import numpy as np #inear algebra\n",
    "import pandas as pd #data processing, CSV file I/O (e.g. pd.read_csv)\n",
    "df = pd.read_table('https://www.kaggle.com/russellyates88/suicide-rates-overview-1985-to-2016')"
   ]
  },
  {
   "cell_type": "code",
   "execution_count": 2,
   "metadata": {},
   "outputs": [
    {
     "name": "stdout",
     "output_type": "stream",
     "text": [
      "<class 'pandas.core.frame.DataFrame'>\n",
      "RangeIndex: 224 entries, 0 to 223\n",
      "Data columns (total 1 columns):\n",
      "<!DOCTYPE html>    224 non-null object\n",
      "dtypes: object(1)\n",
      "memory usage: 1.8+ KB\n"
     ]
    }
   ],
   "source": [
    "df.info()"
   ]
  },
  {
   "cell_type": "code",
   "execution_count": 4,
   "metadata": {},
   "outputs": [
    {
     "name": "stdout",
     "output_type": "stream",
     "text": [
      "2_1_apply_lambda_gb_plt.md              \u001b[34mplots\u001b[m\u001b[m\r\n",
      "2_2_catchup_gitignore.md                \u001b[34msolutions\u001b[m\u001b[m\r\n",
      "2_3_histogram_lr_creation.md            suicide-rates-overview-1985-to-2016.zip\r\n",
      "2_4_cat_n_normalize.md                  \u001b[31msuicide_rates.csv\u001b[m\u001b[m\r\n",
      "2_5_multi_reg_cross_val.md              \u001b[31msuicide_rates_copy\u001b[m\u001b[m\r\n",
      "Week2_Day1_Warm_UP.ipynb                \u001b[34muntitled folder\u001b[m\u001b[m\r\n"
     ]
    }
   ],
   "source": [
    "! ls"
   ]
  },
  {
   "cell_type": "code",
   "execution_count": 5,
   "metadata": {},
   "outputs": [
    {
     "ename": "AttributeError",
     "evalue": "module 'pandas' has no attribute 'read'",
     "output_type": "error",
     "traceback": [
      "\u001b[0;31m---------------------------------------------------------------------------\u001b[0m",
      "\u001b[0;31mAttributeError\u001b[0m                            Traceback (most recent call last)",
      "\u001b[0;32m<ipython-input-5-76a6ffc9a42c>\u001b[0m in \u001b[0;36m<module>\u001b[0;34m\u001b[0m\n\u001b[0;32m----> 1\u001b[0;31m \u001b[0mstress_data\u001b[0m \u001b[0;34m=\u001b[0m \u001b[0mpd\u001b[0m\u001b[0;34m.\u001b[0m\u001b[0mread\u001b[0m\u001b[0;34m(\u001b[0m\u001b[0;34m\"suicide_rates.csv\"\u001b[0m\u001b[0;34m)\u001b[0m\u001b[0;34m\u001b[0m\u001b[0;34m\u001b[0m\u001b[0m\n\u001b[0m",
      "\u001b[0;31mAttributeError\u001b[0m: module 'pandas' has no attribute 'read'"
     ]
    }
   ],
   "source": [
    "stress_data = pd.read(\"suicide_rates.csv\")"
   ]
  },
  {
   "cell_type": "code",
   "execution_count": null,
   "metadata": {},
   "outputs": [],
   "source": []
  }
 ],
 "metadata": {
  "kernelspec": {
   "display_name": "Python 3",
   "language": "python",
   "name": "python3"
  },
  "language_info": {
   "codemirror_mode": {
    "name": "ipython",
    "version": 3
   },
   "file_extension": ".py",
   "mimetype": "text/x-python",
   "name": "python",
   "nbconvert_exporter": "python",
   "pygments_lexer": "ipython3",
   "version": "3.7.3"
  }
 },
 "nbformat": 4,
 "nbformat_minor": 2
}
