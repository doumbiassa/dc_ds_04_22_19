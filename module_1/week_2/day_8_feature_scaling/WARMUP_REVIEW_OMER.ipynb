{
 "cells": [
  {
   "cell_type": "code",
   "execution_count": 4,
   "metadata": {},
   "outputs": [],
   "source": [
    "#  For loops and alternatives\n",
    "\n",
    "Given an array of integers, return the index of of the target number - try doing it with a for loop. Notice that the target number can repeat several times.\n",
    "\n",
    "\n",
    "### Example:\n",
    "\n",
    "Given nums = [2, 9, 11, 15], target = 9,\n",
    "\n",
    "Because nums[1] = 9\n",
    "\n",
    "return [1].\n",
    " \n",
    " # [optional I] - solve with for loops\n",
    " You have an array of integers, return indices of the two numbers such that they add  to a target.\n",
    "Assume that each input would have exactly one solution, and you may not use the same element twice.\n",
    "Given nums = [2, 7, 11, 15], target = 9,\n",
    "\n",
    "### Example \n",
    "Because nums[0] + nums[1] = 2 + 7 = 9,\n",
    "return [0, 1].\n",
    "\n",
    "\n",
    " # [optional II] - solve the same with only one loop and a dictionary\n",
    "\n"
   ]
  },
  {
   "cell_type": "code",
   "execution_count": 10,
   "metadata": {},
   "outputs": [
    {
     "name": "stdout",
     "output_type": "stream",
     "text": [
      "{2: 0, 9: 1, 11: 2, 15: 3}\n"
     ]
    }
   ],
   "source": [
    "numbers =[2, 9, 11, 15]\n",
    "#init an empty dictionary\n",
    "dictionary = {}\n",
    "for indx, num in enumerate(numbers):\n",
    "    dictionary[num] = indx\n",
    "print(dictionary)"
   ]
  },
  {
   "cell_type": "code",
   "execution_count": 8,
   "metadata": {},
   "outputs": [
    {
     "data": {
      "text/plain": [
       "1"
      ]
     },
     "execution_count": 8,
     "metadata": {},
     "output_type": "execute_result"
    }
   ],
   "source": [
    "dictionary[9]"
   ]
  },
  {
   "cell_type": "code",
   "execution_count": 9,
   "metadata": {},
   "outputs": [
    {
     "data": {
      "text/plain": [
       "dict_keys([2, 9, 11, 15])"
      ]
     },
     "execution_count": 9,
     "metadata": {},
     "output_type": "execute_result"
    }
   ],
   "source": [
    "dictionary.keys()"
   ]
  },
  {
   "cell_type": "code",
   "execution_count": 11,
   "metadata": {},
   "outputs": [
    {
     "name": "stdout",
     "output_type": "stream",
     "text": [
      "1\n"
     ]
    }
   ],
   "source": [
    "#another method\n",
    "for idx, num in enumerate(numbers):\n",
    "    if (num == 9):\n",
    "        print(idx)"
   ]
  },
  {
   "cell_type": "code",
   "execution_count": null,
   "metadata": {},
   "outputs": [],
   "source": [
    "#Optional I\n"
   ]
  },
  {
   "cell_type": "code",
   "execution_count": 16,
   "metadata": {},
   "outputs": [
    {
     "name": "stdout",
     "output_type": "stream",
     "text": [
      "1 2\n"
     ]
    }
   ],
   "source": [
    " nums = [2, 5, 4, 6]\n",
    "# def summ_index(num_list):\n",
    "#     for (num1, num2 in num_list):\n",
    "#         if (num1+num2 == 9):\n",
    "            \n",
    "for idx in range(len(nums)):\n",
    "    for run_idx in range(idx+1, len(nums)):\n",
    "        if ((nums[idx]+nums[run_idx]) == 9):\n",
    "            print(idx, run_idx)"
   ]
  },
  {
   "cell_type": "code",
   "execution_count": null,
   "metadata": {},
   "outputs": [],
   "source": [
    "first iteration of outer loop(runs 0 to 3)\n",
    "idx =0\n",
    "run_idx will run from 1 to 3 incl.\n",
    "first iteration of inner loop:\n",
    "    run_idx =1\n",
    "    nums[0]+nums[1] is equal to 9\n",
    "    if it is true--> print 0,1\n",
    "    second iteration of inner loop:\n",
    "        idx =0\n",
    "        run_idx =2\n",
    "    third iteration...\n",
    "second iteration of outer loop:\n",
    "    idx =1\n",
    "    run_idx = 2\n",
    "third ...\n",
    "    "
   ]
  },
  {
   "cell_type": "code",
   "execution_count": 28,
   "metadata": {},
   "outputs": [],
   "source": [
    "Dav =[1,2,5,12]\n",
    "#Difine a function that returns the index of numbers in a list which sum is 9.\n",
    "def get_indices_of_elem_sum(num_list, target):\n",
    "    for idx in range(len(num_list)):\n",
    "        for run_idx in range(idx+1, len(num_list)):\n",
    "            if ((num_list[idx]+num_list[run_idx]) == target):\n",
    "                print(idx, run_idx)\n",
    "    \n",
    "    \n",
    "        \n",
    "            \n"
   ]
  },
  {
   "cell_type": "code",
   "execution_count": 29,
   "metadata": {},
   "outputs": [
    {
     "name": "stdout",
     "output_type": "stream",
     "text": [
      "2 3\n",
      "None\n"
     ]
    }
   ],
   "source": [
    "print(get_indices_of_elem_sum(Dav, 17))"
   ]
  },
  {
   "cell_type": "code",
   "execution_count": 32,
   "metadata": {},
   "outputs": [],
   "source": [
    "Leo = [1,2,4,5,6,7,8,13,12]"
   ]
  },
  {
   "cell_type": "code",
   "execution_count": null,
   "metadata": {},
   "outputs": [],
   "source": [
    "for key, val in a_dict.items():\n",
    "    if \n",
    "    "
   ]
  }
 ],
 "metadata": {
  "kernelspec": {
   "display_name": "Python 3",
   "language": "python",
   "name": "python3"
  },
  "language_info": {
   "codemirror_mode": {
    "name": "ipython",
    "version": 3
   },
   "file_extension": ".py",
   "mimetype": "text/x-python",
   "name": "python",
   "nbconvert_exporter": "python",
   "pygments_lexer": "ipython3",
   "version": "3.7.3"
  }
 },
 "nbformat": 4,
 "nbformat_minor": 2
}
