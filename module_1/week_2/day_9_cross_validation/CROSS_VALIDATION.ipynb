{
 "cells": [
  {
   "cell_type": "code",
   "execution_count": 1,
   "metadata": {},
   "outputs": [],
   "source": [
    "import numpy as np\n",
    "import pandas as pd\n",
    "cancer_rates = pd.read_csv('https://query.data.world/s/5ylxfjp6oymzhuhhzwmlbqxzcw6etz')"
   ]
  },
  {
   "cell_type": "code",
   "execution_count": 2,
   "metadata": {},
   "outputs": [
    {
     "data": {
      "text/plain": [
       "Index(['avganncount', 'avgdeathsperyear', 'target_deathrate', 'incidencerate',\n",
       "       'medincome', 'popest2015', 'povertypercent', 'studypercap', 'binnedinc',\n",
       "       'medianage', 'medianagemale', 'medianagefemale', 'geography',\n",
       "       'percentmarried', 'pctnohs18_24', 'pcths18_24', 'pctsomecol18_24',\n",
       "       'pctbachdeg18_24', 'pcths25_over', 'pctbachdeg25_over',\n",
       "       'pctemployed16_over', 'pctunemployed16_over', 'pctprivatecoverage',\n",
       "       'pctprivatecoveragealone', 'pctempprivcoverage', 'pctpubliccoverage',\n",
       "       'pctpubliccoveragealone', 'pctwhite', 'pctblack', 'pctasian',\n",
       "       'pctotherrace', 'pctmarriedhouseholds', 'birthrate'],\n",
       "      dtype='object')"
      ]
     },
     "execution_count": 2,
     "metadata": {},
     "output_type": "execute_result"
    }
   ],
   "source": [
    "cancer_rates.columns"
   ]
  },
  {
   "cell_type": "code",
   "execution_count": 3,
   "metadata": {},
   "outputs": [],
   "source": [
    "X = ['avganncount', 'avgdeathsperyear', 'incidencerate',\n",
    "       'medincome', 'popest2015', 'povertypercent', 'studypercap', 'binnedinc',\n",
    "       'medianage', 'medianagemale', 'medianagefemale', 'geography',\n",
    "       'percentmarried', 'pctnohs18_24', 'pcths18_24', 'pctsomecol18_24',\n",
    "       'pctbachdeg18_24', 'pcths25_over', 'pctbachdeg25_over',\n",
    "       'pctemployed16_over', 'pctunemployed16_over', 'pctprivatecoverage',\n",
    "       'pctprivatecoveragealone', 'pctempprivcoverage', 'pctpubliccoverage',\n",
    "       'pctpubliccoveragealone', 'pctwhite', 'pctblack', 'pctasian',\n",
    "       'pctotherrace', 'pctmarriedhouseholds', 'birthrate']"
   ]
  },
  {
   "cell_type": "code",
   "execution_count": 4,
   "metadata": {},
   "outputs": [],
   "source": [
    "y = ['target_deathrate']"
   ]
  },
  {
   "cell_type": "code",
   "execution_count": null,
   "metadata": {},
   "outputs": [],
   "source": [
    "from sklearn import"
   ]
  }
 ],
 "metadata": {
  "kernelspec": {
   "display_name": "Python 3",
   "language": "python",
   "name": "python3"
  },
  "language_info": {
   "codemirror_mode": {
    "name": "ipython",
    "version": 3
   },
   "file_extension": ".py",
   "mimetype": "text/x-python",
   "name": "python",
   "nbconvert_exporter": "python",
   "pygments_lexer": "ipython3",
   "version": "3.7.3"
  }
 },
 "nbformat": 4,
 "nbformat_minor": 2
}
