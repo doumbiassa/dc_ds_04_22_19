{
 "cells": [
  {
   "cell_type": "markdown",
   "metadata": {
    "slideshow": {
     "slide_type": "slide"
    }
   },
   "source": [
    "To answer the question:<br>\n",
    "- What are the max and min dates in the Invoice table?\n",
    "- What tables would you need to answer \"what is your most popular track?\"\n",
    "- What values from each table?"
   ]
  },
  {
   "cell_type": "markdown",
   "metadata": {
    "slideshow": {
     "slide_type": "skip"
    }
   },
   "source": [
    "#### To get the tables"
   ]
  },
  {
   "cell_type": "code",
   "execution_count": 13,
   "metadata": {
    "scrolled": true
   },
   "outputs": [
    {
     "name": "stdout",
     "output_type": "stream",
     "text": [
      "found 11 tables\n",
      "('Album',)\n",
      "('Artist',)\n",
      "('Customer',)\n",
      "('Employee',)\n",
      "('Genre',)\n",
      "('Invoice',)\n",
      "('InvoiceLine',)\n",
      "('MediaType',)\n",
      "('Playlist',)\n",
      "('PlaylistTrack',)\n",
      "('Track',)\n"
     ]
    }
   ],
   "source": [
    "conn = sqlite3.connect('Chinook_Sqlite.sqlite')\n",
    "cursor = conn.cursor()\n",
    "\n",
    "data = cursor.execute(\"SELECT name FROM sqlite_master WHERE type='table';\").fetchall()\n",
    "\n",
    "print('found',len(data),'tables')\n",
    "print(*data, sep='\\n')"
   ]
  },
  {
   "cell_type": "markdown",
   "metadata": {},
   "source": [
    "### There are 11 tables total."
   ]
  },
  {
   "cell_type": "markdown",
   "metadata": {},
   "source": [
    "#### To get the keys"
   ]
  },
  {
   "cell_type": "code",
   "execution_count": 14,
   "metadata": {},
   "outputs": [
    {
     "name": "stdout",
     "output_type": "stream",
     "text": [
      "Table  Album  has PK  AlbumId\n",
      "Table  Artist  has PK  ArtistId\n",
      "Table  Customer  has PK  CustomerId\n",
      "Table  Employee  has PK  EmployeeId\n",
      "Table  Genre  has PK  GenreId\n",
      "Table  Invoice  has PK  InvoiceId\n",
      "Table  InvoiceLine  has PK  InvoiceLineId\n",
      "Table  MediaType  has PK  MediaTypeId\n",
      "Table  Playlist  has PK  PlaylistId\n",
      "Table  PlaylistTrack  has PK  PlaylistId\n",
      "Table  Track  has PK  TrackId\n"
     ]
    }
   ],
   "source": [
    "for tab in data:\n",
    "    cmd = \"PRAGMA table_info(\"+tab[0]+\") \"\n",
    "    cursor.execute(cmd)\n",
    "    info = cursor.fetchall()\n",
    "    for val in info:\n",
    "        if val[-1]==1:\n",
    "            print('Table ', tab[0], ' has PK ',val[1])"
   ]
  },
  {
   "cell_type": "markdown",
   "metadata": {},
   "source": [
    "#### To get the foreign keys"
   ]
  },
  {
   "cell_type": "code",
   "execution_count": 21,
   "metadata": {
    "slideshow": {
     "slide_type": "skip"
    }
   },
   "outputs": [
    {
     "name": "stdout",
     "output_type": "stream",
     "text": [
      "Table:  Album\n",
      "The foreign key is: ArtistId\n",
      "---------------------\n",
      "---------------------\n",
      "Table:  Artist\n",
      "---------------------\n",
      "---------------------\n",
      "Table:  Customer\n",
      "The foreign key is: SupportRepId\n",
      "---------------------\n",
      "---------------------\n",
      "Table:  Employee\n",
      "The foreign key is: ReportsTo\n",
      "---------------------\n",
      "---------------------\n",
      "Table:  Genre\n",
      "---------------------\n",
      "---------------------\n",
      "Table:  Invoice\n",
      "The foreign key is: CustomerId\n",
      "---------------------\n",
      "---------------------\n",
      "Table:  InvoiceLine\n",
      "The foreign key is: TrackId\n",
      "The foreign key is: InvoiceId\n",
      "---------------------\n",
      "---------------------\n",
      "Table:  MediaType\n",
      "---------------------\n",
      "---------------------\n",
      "Table:  Playlist\n",
      "---------------------\n",
      "---------------------\n",
      "Table:  PlaylistTrack\n",
      "The foreign key is: TrackId\n",
      "The foreign key is: PlaylistId\n",
      "---------------------\n",
      "---------------------\n",
      "Table:  Track\n",
      "The foreign key is: MediaTypeId\n",
      "The foreign key is: GenreId\n",
      "The foreign key is: AlbumId\n",
      "---------------------\n",
      "---------------------\n"
     ]
    }
   ],
   "source": [
    "for tab in data:\n",
    "\n",
    "    info = cursor.execute(\"PRAGMA table_info(\"+tab[0]+\") \").fetchall()\n",
    "    print('Table: ', tab[0])\n",
    "  \n",
    "    cursor.execute(\"PRAGMA foreign_key_list(\"+tab[0]+\")\")\n",
    "    \n",
    "    info = cursor.fetchall()\n",
    "    for element in info:\n",
    "         print('The foreign key is:', element[3])\n",
    "        \n",
    "    \n",
    "   \n",
    "    print('---------------------')\n",
    "    print('---------------------')"
   ]
  },
  {
   "cell_type": "markdown",
   "metadata": {},
   "source": [
    "We need to draw the 11 tables and write the name of the table in the first raw of the table. Then write the name of each row in that table."
   ]
  },
  {
   "cell_type": "markdown",
   "metadata": {},
   "source": [
    "### To get min max\n"
   ]
  },
  {
   "cell_type": "code",
   "execution_count": 22,
   "metadata": {},
   "outputs": [
    {
     "name": "stdout",
     "output_type": "stream",
     "text": [
      "      min(InvoiceDate)\n",
      "0  2009-01-01 00:00:00\n",
      "      max(InvoiceDate)\n",
      "0  2013-12-22 00:00:00\n"
     ]
    }
   ],
   "source": [
    "conn = sqlite3.connect('Chinook_Sqlite.sqlite')\n",
    "df = pd.read_sql_query(\"select min(InvoiceDate) from invoice;\", conn)\n",
    "print(df)\n",
    "\n",
    "df = pd.read_sql_query(\"select max(InvoiceDate) from invoice;\", conn)\n",
    "print(df)"
   ]
  },
  {
   "cell_type": "markdown",
   "metadata": {},
   "source": [
    "I would use the InvoiceLine table and the Track table. I will use the TrackId from InvoiceLine table and Name from Track table."
   ]
  },
  {
   "cell_type": "code",
   "execution_count": null,
   "metadata": {},
   "outputs": [],
   "source": []
  },
  {
   "cell_type": "markdown",
   "metadata": {
    "slideshow": {
     "slide_type": "slide"
    }
   },
   "source": [
    "## Reflection"
   ]
  }
 ],
 "metadata": {
  "kernelspec": {
   "display_name": "Python 3",
   "language": "python",
   "name": "python3"
  },
  "language_info": {
   "codemirror_mode": {
    "name": "ipython",
    "version": 3
   },
   "file_extension": ".py",
   "mimetype": "text/x-python",
   "name": "python",
   "nbconvert_exporter": "python",
   "pygments_lexer": "ipython3",
   "version": "3.7.3"
  }
 },
 "nbformat": 4,
 "nbformat_minor": 2
}
