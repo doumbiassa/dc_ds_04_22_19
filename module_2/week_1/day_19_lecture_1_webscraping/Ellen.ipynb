{
 "cells": [
  {
   "cell_type": "code",
   "execution_count": null,
   "metadata": {},
   "outputs": [],
   "source": [
    "def retrieve_ratings(book_container):\n",
    "   regex = re.compile(\"star-rating (.*)\")\n",
    "   book_stars = book_container.find_all('p', {\"class\" : regex})\n",
    "\n",
    "   star_ratings = []\n",
    "   for p in book_stars:\n",
    "       star_ratings.append(p.attrs['class'][-1])\n",
    "\n",
    "   star_dict = {'One': 1, 'Two': 2, 'Three': 3, 'Four': 4, 'Five': 5}\n",
    "   star_ratings = [star_dict[s] for s in star_ratings]\n",
    "   return star_ratings"
   ]
  }
 ],
 "metadata": {
  "kernelspec": {
   "display_name": "Python 3",
   "language": "python",
   "name": "python3"
  },
  "language_info": {
   "codemirror_mode": {
    "name": "ipython",
    "version": 3
   },
   "file_extension": ".py",
   "mimetype": "text/x-python",
   "name": "python",
   "nbconvert_exporter": "python",
   "pygments_lexer": "ipython3",
   "version": "3.7.3"
  }
 },
 "nbformat": 4,
 "nbformat_minor": 2
}
