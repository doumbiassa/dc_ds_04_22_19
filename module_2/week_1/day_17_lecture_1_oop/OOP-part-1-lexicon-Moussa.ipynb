{
 "cells": [
  {
   "cell_type": "markdown",
   "metadata": {
    "slideshow": {
     "slide_type": "slide"
    }
   },
   "source": [
    "# Object Oriented Programing - Part 1\n",
    "## Or why a data scientist should care about classes"
   ]
  },
  {
   "cell_type": "markdown",
   "metadata": {
    "slideshow": {
     "slide_type": "slide"
    }
   },
   "source": [
    "## Scenario\n",
    "\n",
    "You want to build an automated datascience pipeline to monitor and predict stock performance.\n",
    "What would you do?\n",
    "\n",
    "![stocks](img/stocks.jpeg)"
   ]
  },
  {
   "cell_type": "markdown",
   "metadata": {
    "slideshow": {
     "slide_type": "slide"
    }
   },
   "source": [
    "While we won't complete this today, in order to build that you'd need to:\n",
    "\n",
    "- describe the limits of custom functions\n",
    "- identify and paraphrase the vocabulary of Object Oriented Programming\n",
    "- build a new small sample class\n",
    "- map out the blueprint of a class for the stock monitoring data science pipeline"
   ]
  },
  {
   "cell_type": "markdown",
   "metadata": {
    "slideshow": {
     "slide_type": "slide"
    }
   },
   "source": [
    "### Let's start with the familiar: functions, why do we care about them?"
   ]
  },
  {
   "cell_type": "markdown",
   "metadata": {
    "slideshow": {
     "slide_type": "slide"
    }
   },
   "source": [
    "But, how is a function like a pipe?"
   ]
  },
  {
   "cell_type": "markdown",
   "metadata": {
    "slideshow": {
     "slide_type": "fragment"
    }
   },
   "source": [
    "![pipes](img/funtions-pipe.jpeg)"
   ]
  },
  {
   "cell_type": "markdown",
   "metadata": {
    "slideshow": {
     "slide_type": "slide"
    }
   },
   "source": [
    "**What if** there was a way to bundle your input data, output data, and a bunch of functions _all together_ in a repeatable fashion?"
   ]
  },
  {
   "cell_type": "markdown",
   "metadata": {
    "slideshow": {
     "slide_type": "fragment"
    }
   },
   "source": [
    "Well, _**there is**_."
   ]
  },
  {
   "cell_type": "markdown",
   "metadata": {
    "slideshow": {
     "slide_type": "fragment"
    }
   },
   "source": [
    "Or to put it differently:"
   ]
  },
  {
   "cell_type": "markdown",
   "metadata": {
    "slideshow": {
     "slide_type": "slide"
    }
   },
   "source": [
    "#### HI BILLY MAYS HERE"
   ]
  },
  {
   "cell_type": "markdown",
   "metadata": {
    "slideshow": {
     "slide_type": "fragment"
    }
   },
   "source": [
    "![mayes](img/mayes.png)"
   ]
  },
  {
   "cell_type": "markdown",
   "metadata": {
    "slideshow": {
     "slide_type": "slide"
    }
   },
   "source": [
    "#### Example 1\n",
    "When we use `type()` what are we checking?\n",
    "\n",
    "```\n",
    "example = [\"one\", \"two\", 3]\n",
    "type(example)\n",
    "type(example[-1])\n",
    "```"
   ]
  },
  {
   "cell_type": "markdown",
   "metadata": {
    "slideshow": {
     "slide_type": "fragment"
    }
   },
   "source": [
    "`example` is an _object_ of _class type_ **list**"
   ]
  },
  {
   "cell_type": "markdown",
   "metadata": {
    "slideshow": {
     "slide_type": "fragment"
    }
   },
   "source": [
    "What can we know about `example` now that we know it is a **list** ?"
   ]
  },
  {
   "cell_type": "markdown",
   "metadata": {
    "slideshow": {
     "slide_type": "slide"
    }
   },
   "source": [
    "#### Example 2\n",
    "\n",
    "```\n",
    "import pandas as pd\n",
    "\n",
    "sampledf = pd.Dataframe()\n",
    "\n",
    "```"
   ]
  },
  {
   "cell_type": "code",
   "execution_count": 1,
   "metadata": {
    "slideshow": {
     "slide_type": "slide"
    }
   },
   "outputs": [],
   "source": [
    "import pandas as pd\n",
    "\n",
    "sampledf = pd.DataFrame()"
   ]
  },
  {
   "cell_type": "markdown",
   "metadata": {
    "slideshow": {
     "slide_type": "fragment"
    }
   },
   "source": [
    "When we create an \"object\", using the blue-print of a _class_, even when it is **empty** that is called _initializing_ the object. "
   ]
  },
  {
   "cell_type": "markdown",
   "metadata": {
    "slideshow": {
     "slide_type": "slide"
    }
   },
   "source": [
    "Even though it is empty, it is still an _object_ of _class_ pandas DataFrame."
   ]
  },
  {
   "cell_type": "code",
   "execution_count": 2,
   "metadata": {
    "slideshow": {
     "slide_type": "-"
    }
   },
   "outputs": [
    {
     "data": {
      "text/plain": [
       "pandas.core.frame.DataFrame"
      ]
     },
     "execution_count": 2,
     "metadata": {},
     "output_type": "execute_result"
    }
   ],
   "source": [
    "type(sampledf)"
   ]
  },
  {
   "cell_type": "markdown",
   "metadata": {
    "slideshow": {
     "slide_type": "slide"
    }
   },
   "source": [
    "What do we know we can ask about this object?\n",
    "What are its _attributes_ ?"
   ]
  },
  {
   "cell_type": "code",
   "execution_count": 3,
   "metadata": {
    "slideshow": {
     "slide_type": "fragment"
    }
   },
   "outputs": [
    {
     "data": {
      "text/plain": [
       "Index([], dtype='object')"
      ]
     },
     "execution_count": 3,
     "metadata": {},
     "output_type": "execute_result"
    }
   ],
   "source": [
    "sampledf.columns"
   ]
  },
  {
   "cell_type": "markdown",
   "metadata": {
    "slideshow": {
     "slide_type": "slide"
    }
   },
   "source": [
    "What about _methods_ ? What methods are available for data frames?"
   ]
  },
  {
   "cell_type": "code",
   "execution_count": 4,
   "metadata": {
    "slideshow": {
     "slide_type": "fragment"
    }
   },
   "outputs": [
    {
     "name": "stdout",
     "output_type": "stream",
     "text": [
      "<class 'pandas.core.frame.DataFrame'>\n",
      "Index: 0 entries\n",
      "Empty DataFrame"
     ]
    }
   ],
   "source": [
    "sampledf.info()"
   ]
  },
  {
   "cell_type": "markdown",
   "metadata": {
    "slideshow": {
     "slide_type": "slide"
    }
   },
   "source": [
    "What other attributes and methods can you use on a dataframe? Try them on `sampledf`<br>\n",
    "The methods and attributes for dataframes are found [here](https://pandas.pydata.org/pandas-docs/stable/reference/api/pandas.DataFrame.html)"
   ]
  },
  {
   "cell_type": "markdown",
   "metadata": {
    "slideshow": {
     "slide_type": "slide"
    }
   },
   "source": [
    "**Task**: Try working with the methods and attributes of data frames on the `airports.csv` dataset"
   ]
  },
  {
   "cell_type": "code",
   "execution_count": 5,
   "metadata": {},
   "outputs": [],
   "source": [
    "airports = pd.read_csv('airports.csv')"
   ]
  },
  {
   "cell_type": "code",
   "execution_count": 6,
   "metadata": {
    "slideshow": {
     "slide_type": "skip"
    }
   },
   "outputs": [
    {
     "data": {
      "text/plain": [
       "Index(['IATA_CODE', 'AIRPORT', 'CITY', 'STATE', 'COUNTRY', 'LATITUDE',\n",
       "       'LONGITUDE'],\n",
       "      dtype='object')"
      ]
     },
     "execution_count": 6,
     "metadata": {},
     "output_type": "execute_result"
    }
   ],
   "source": [
    "airports.columns"
   ]
  },
  {
   "cell_type": "code",
   "execution_count": 7,
   "metadata": {
    "slideshow": {
     "slide_type": "skip"
    }
   },
   "outputs": [
    {
     "data": {
      "text/plain": [
       "(322, 7)"
      ]
     },
     "execution_count": 7,
     "metadata": {},
     "output_type": "execute_result"
    }
   ],
   "source": [
    "airports.shape"
   ]
  },
  {
   "cell_type": "code",
   "execution_count": 8,
   "metadata": {
    "slideshow": {
     "slide_type": "skip"
    }
   },
   "outputs": [
    {
     "data": {
      "text/plain": [
       "IATA_CODE     object\n",
       "AIRPORT       object\n",
       "CITY          object\n",
       "STATE         object\n",
       "COUNTRY       object\n",
       "LATITUDE     float64\n",
       "LONGITUDE    float64\n",
       "dtype: object"
      ]
     },
     "execution_count": 8,
     "metadata": {},
     "output_type": "execute_result"
    }
   ],
   "source": [
    "airports.dtypes"
   ]
  },
  {
   "cell_type": "code",
   "execution_count": 9,
   "metadata": {},
   "outputs": [
    {
     "data": {
      "text/html": [
       "<div>\n",
       "<style scoped>\n",
       "    .dataframe tbody tr th:only-of-type {\n",
       "        vertical-align: middle;\n",
       "    }\n",
       "\n",
       "    .dataframe tbody tr th {\n",
       "        vertical-align: top;\n",
       "    }\n",
       "\n",
       "    .dataframe thead th {\n",
       "        text-align: right;\n",
       "    }\n",
       "</style>\n",
       "<table border=\"1\" class=\"dataframe\">\n",
       "  <thead>\n",
       "    <tr style=\"text-align: right;\">\n",
       "      <th></th>\n",
       "      <th>IATA_CODE</th>\n",
       "      <th>AIRPORT</th>\n",
       "      <th>CITY</th>\n",
       "      <th>STATE</th>\n",
       "      <th>COUNTRY</th>\n",
       "      <th>LATITUDE</th>\n",
       "      <th>LONGITUDE</th>\n",
       "    </tr>\n",
       "  </thead>\n",
       "  <tbody>\n",
       "    <tr>\n",
       "      <th>0</th>\n",
       "      <td>ABE</td>\n",
       "      <td>Lehigh Valley International Airport</td>\n",
       "      <td>Allentown</td>\n",
       "      <td>PA</td>\n",
       "      <td>USA</td>\n",
       "      <td>40.65236</td>\n",
       "      <td>-75.44040</td>\n",
       "    </tr>\n",
       "    <tr>\n",
       "      <th>1</th>\n",
       "      <td>ABI</td>\n",
       "      <td>Abilene Regional Airport</td>\n",
       "      <td>Abilene</td>\n",
       "      <td>TX</td>\n",
       "      <td>USA</td>\n",
       "      <td>32.41132</td>\n",
       "      <td>-99.68190</td>\n",
       "    </tr>\n",
       "    <tr>\n",
       "      <th>2</th>\n",
       "      <td>ABQ</td>\n",
       "      <td>Albuquerque International Sunport</td>\n",
       "      <td>Albuquerque</td>\n",
       "      <td>NM</td>\n",
       "      <td>USA</td>\n",
       "      <td>35.04022</td>\n",
       "      <td>-106.60919</td>\n",
       "    </tr>\n",
       "    <tr>\n",
       "      <th>3</th>\n",
       "      <td>ABR</td>\n",
       "      <td>Aberdeen Regional Airport</td>\n",
       "      <td>Aberdeen</td>\n",
       "      <td>SD</td>\n",
       "      <td>USA</td>\n",
       "      <td>45.44906</td>\n",
       "      <td>-98.42183</td>\n",
       "    </tr>\n",
       "    <tr>\n",
       "      <th>4</th>\n",
       "      <td>ABY</td>\n",
       "      <td>Southwest Georgia Regional Airport</td>\n",
       "      <td>Albany</td>\n",
       "      <td>GA</td>\n",
       "      <td>USA</td>\n",
       "      <td>31.53552</td>\n",
       "      <td>-84.19447</td>\n",
       "    </tr>\n",
       "    <tr>\n",
       "      <th>5</th>\n",
       "      <td>ACK</td>\n",
       "      <td>Nantucket Memorial Airport</td>\n",
       "      <td>Nantucket</td>\n",
       "      <td>MA</td>\n",
       "      <td>USA</td>\n",
       "      <td>41.25305</td>\n",
       "      <td>-70.06018</td>\n",
       "    </tr>\n",
       "    <tr>\n",
       "      <th>6</th>\n",
       "      <td>ACT</td>\n",
       "      <td>Waco Regional Airport</td>\n",
       "      <td>Waco</td>\n",
       "      <td>TX</td>\n",
       "      <td>USA</td>\n",
       "      <td>31.61129</td>\n",
       "      <td>-97.23052</td>\n",
       "    </tr>\n",
       "    <tr>\n",
       "      <th>7</th>\n",
       "      <td>ACV</td>\n",
       "      <td>Arcata Airport</td>\n",
       "      <td>Arcata/Eureka</td>\n",
       "      <td>CA</td>\n",
       "      <td>USA</td>\n",
       "      <td>40.97812</td>\n",
       "      <td>-124.10862</td>\n",
       "    </tr>\n",
       "    <tr>\n",
       "      <th>8</th>\n",
       "      <td>ACY</td>\n",
       "      <td>Atlantic City International Airport</td>\n",
       "      <td>Atlantic City</td>\n",
       "      <td>NJ</td>\n",
       "      <td>USA</td>\n",
       "      <td>39.45758</td>\n",
       "      <td>-74.57717</td>\n",
       "    </tr>\n",
       "    <tr>\n",
       "      <th>9</th>\n",
       "      <td>ADK</td>\n",
       "      <td>Adak Airport</td>\n",
       "      <td>Adak</td>\n",
       "      <td>AK</td>\n",
       "      <td>USA</td>\n",
       "      <td>51.87796</td>\n",
       "      <td>-176.64603</td>\n",
       "    </tr>\n",
       "    <tr>\n",
       "      <th>10</th>\n",
       "      <td>ADQ</td>\n",
       "      <td>Kodiak Airport</td>\n",
       "      <td>Kodiak</td>\n",
       "      <td>AK</td>\n",
       "      <td>USA</td>\n",
       "      <td>57.74997</td>\n",
       "      <td>-152.49386</td>\n",
       "    </tr>\n",
       "    <tr>\n",
       "      <th>11</th>\n",
       "      <td>AEX</td>\n",
       "      <td>Alexandria International Airport</td>\n",
       "      <td>Alexandria</td>\n",
       "      <td>LA</td>\n",
       "      <td>USA</td>\n",
       "      <td>31.32737</td>\n",
       "      <td>-92.54856</td>\n",
       "    </tr>\n",
       "    <tr>\n",
       "      <th>12</th>\n",
       "      <td>AGS</td>\n",
       "      <td>Augusta Regional Airport (Bush Field)</td>\n",
       "      <td>Augusta</td>\n",
       "      <td>GA</td>\n",
       "      <td>USA</td>\n",
       "      <td>33.36996</td>\n",
       "      <td>-81.96450</td>\n",
       "    </tr>\n",
       "    <tr>\n",
       "      <th>13</th>\n",
       "      <td>AKN</td>\n",
       "      <td>King Salmon Airport</td>\n",
       "      <td>King Salmon</td>\n",
       "      <td>AK</td>\n",
       "      <td>USA</td>\n",
       "      <td>58.67680</td>\n",
       "      <td>-156.64922</td>\n",
       "    </tr>\n",
       "    <tr>\n",
       "      <th>14</th>\n",
       "      <td>ALB</td>\n",
       "      <td>Albany International Airport</td>\n",
       "      <td>Albany</td>\n",
       "      <td>NY</td>\n",
       "      <td>USA</td>\n",
       "      <td>42.74812</td>\n",
       "      <td>-73.80298</td>\n",
       "    </tr>\n",
       "    <tr>\n",
       "      <th>15</th>\n",
       "      <td>ALO</td>\n",
       "      <td>Waterloo Regional Airport</td>\n",
       "      <td>Waterloo</td>\n",
       "      <td>IA</td>\n",
       "      <td>USA</td>\n",
       "      <td>42.55708</td>\n",
       "      <td>-92.40034</td>\n",
       "    </tr>\n",
       "    <tr>\n",
       "      <th>16</th>\n",
       "      <td>AMA</td>\n",
       "      <td>Rick Husband Amarillo International Airport</td>\n",
       "      <td>Amarillo</td>\n",
       "      <td>TX</td>\n",
       "      <td>USA</td>\n",
       "      <td>35.21937</td>\n",
       "      <td>-101.70593</td>\n",
       "    </tr>\n",
       "    <tr>\n",
       "      <th>17</th>\n",
       "      <td>ANC</td>\n",
       "      <td>Ted Stevens Anchorage International Airport</td>\n",
       "      <td>Anchorage</td>\n",
       "      <td>AK</td>\n",
       "      <td>USA</td>\n",
       "      <td>61.17432</td>\n",
       "      <td>-149.99619</td>\n",
       "    </tr>\n",
       "    <tr>\n",
       "      <th>18</th>\n",
       "      <td>APN</td>\n",
       "      <td>Alpena County Regional Airport</td>\n",
       "      <td>Alpena</td>\n",
       "      <td>MI</td>\n",
       "      <td>USA</td>\n",
       "      <td>45.07807</td>\n",
       "      <td>-83.56029</td>\n",
       "    </tr>\n",
       "    <tr>\n",
       "      <th>19</th>\n",
       "      <td>ASE</td>\n",
       "      <td>Aspen-Pitkin County Airport</td>\n",
       "      <td>Aspen</td>\n",
       "      <td>CO</td>\n",
       "      <td>USA</td>\n",
       "      <td>39.22316</td>\n",
       "      <td>-106.86885</td>\n",
       "    </tr>\n",
       "    <tr>\n",
       "      <th>20</th>\n",
       "      <td>ATL</td>\n",
       "      <td>Hartsfield-Jackson Atlanta International Airport</td>\n",
       "      <td>Atlanta</td>\n",
       "      <td>GA</td>\n",
       "      <td>USA</td>\n",
       "      <td>33.64044</td>\n",
       "      <td>-84.42694</td>\n",
       "    </tr>\n",
       "    <tr>\n",
       "      <th>21</th>\n",
       "      <td>ATW</td>\n",
       "      <td>Appleton International Airport</td>\n",
       "      <td>Appleton</td>\n",
       "      <td>WI</td>\n",
       "      <td>USA</td>\n",
       "      <td>44.25741</td>\n",
       "      <td>-88.51948</td>\n",
       "    </tr>\n",
       "    <tr>\n",
       "      <th>22</th>\n",
       "      <td>AUS</td>\n",
       "      <td>Austin-Bergstrom International Airport</td>\n",
       "      <td>Austin</td>\n",
       "      <td>TX</td>\n",
       "      <td>USA</td>\n",
       "      <td>30.19453</td>\n",
       "      <td>-97.66987</td>\n",
       "    </tr>\n",
       "    <tr>\n",
       "      <th>23</th>\n",
       "      <td>AVL</td>\n",
       "      <td>Asheville Regional Airport</td>\n",
       "      <td>Asheville</td>\n",
       "      <td>NC</td>\n",
       "      <td>USA</td>\n",
       "      <td>35.43619</td>\n",
       "      <td>-82.54181</td>\n",
       "    </tr>\n",
       "    <tr>\n",
       "      <th>24</th>\n",
       "      <td>AVP</td>\n",
       "      <td>Wilkes-Barre/Scranton International Airport</td>\n",
       "      <td>Wilkes-Barre/Scranton</td>\n",
       "      <td>PA</td>\n",
       "      <td>USA</td>\n",
       "      <td>41.33815</td>\n",
       "      <td>-75.72427</td>\n",
       "    </tr>\n",
       "    <tr>\n",
       "      <th>25</th>\n",
       "      <td>AZO</td>\n",
       "      <td>Kalamazoo/Battle Creek International Airport</td>\n",
       "      <td>Kalamazoo</td>\n",
       "      <td>MI</td>\n",
       "      <td>USA</td>\n",
       "      <td>42.23488</td>\n",
       "      <td>-85.55206</td>\n",
       "    </tr>\n",
       "    <tr>\n",
       "      <th>26</th>\n",
       "      <td>BDL</td>\n",
       "      <td>Bradley International Airport</td>\n",
       "      <td>Windsor Locks</td>\n",
       "      <td>CT</td>\n",
       "      <td>USA</td>\n",
       "      <td>41.93887</td>\n",
       "      <td>-72.68323</td>\n",
       "    </tr>\n",
       "    <tr>\n",
       "      <th>27</th>\n",
       "      <td>BET</td>\n",
       "      <td>Bethel Airport</td>\n",
       "      <td>Bethel</td>\n",
       "      <td>AK</td>\n",
       "      <td>USA</td>\n",
       "      <td>60.77978</td>\n",
       "      <td>-161.83800</td>\n",
       "    </tr>\n",
       "    <tr>\n",
       "      <th>28</th>\n",
       "      <td>BFL</td>\n",
       "      <td>Meadows Field</td>\n",
       "      <td>Bakersfield</td>\n",
       "      <td>CA</td>\n",
       "      <td>USA</td>\n",
       "      <td>35.43360</td>\n",
       "      <td>-119.05677</td>\n",
       "    </tr>\n",
       "    <tr>\n",
       "      <th>29</th>\n",
       "      <td>BGM</td>\n",
       "      <td>Greater Binghamton Airport</td>\n",
       "      <td>Binghamton</td>\n",
       "      <td>NY</td>\n",
       "      <td>USA</td>\n",
       "      <td>42.20848</td>\n",
       "      <td>-75.97961</td>\n",
       "    </tr>\n",
       "    <tr>\n",
       "      <th>...</th>\n",
       "      <td>...</td>\n",
       "      <td>...</td>\n",
       "      <td>...</td>\n",
       "      <td>...</td>\n",
       "      <td>...</td>\n",
       "      <td>...</td>\n",
       "      <td>...</td>\n",
       "    </tr>\n",
       "    <tr>\n",
       "      <th>292</th>\n",
       "      <td>SRQ</td>\n",
       "      <td>Sarasota-Bradenton International Airport</td>\n",
       "      <td>Sarasota</td>\n",
       "      <td>FL</td>\n",
       "      <td>USA</td>\n",
       "      <td>27.39533</td>\n",
       "      <td>-82.55411</td>\n",
       "    </tr>\n",
       "    <tr>\n",
       "      <th>293</th>\n",
       "      <td>STC</td>\n",
       "      <td>St. Cloud Regional Airport</td>\n",
       "      <td>St Cloud</td>\n",
       "      <td>MN</td>\n",
       "      <td>USA</td>\n",
       "      <td>45.54532</td>\n",
       "      <td>-94.05834</td>\n",
       "    </tr>\n",
       "    <tr>\n",
       "      <th>294</th>\n",
       "      <td>STL</td>\n",
       "      <td>St. Louis International Airport at Lambert Field</td>\n",
       "      <td>St Louis</td>\n",
       "      <td>MO</td>\n",
       "      <td>USA</td>\n",
       "      <td>38.74769</td>\n",
       "      <td>-90.35999</td>\n",
       "    </tr>\n",
       "    <tr>\n",
       "      <th>295</th>\n",
       "      <td>STT</td>\n",
       "      <td>Cyril E. King Airport</td>\n",
       "      <td>Charlotte Amalie</td>\n",
       "      <td>VI</td>\n",
       "      <td>USA</td>\n",
       "      <td>18.33731</td>\n",
       "      <td>-64.97336</td>\n",
       "    </tr>\n",
       "    <tr>\n",
       "      <th>296</th>\n",
       "      <td>STX</td>\n",
       "      <td>Henry E. Rohlsen Airport</td>\n",
       "      <td>Christiansted</td>\n",
       "      <td>VI</td>\n",
       "      <td>USA</td>\n",
       "      <td>17.70189</td>\n",
       "      <td>-64.79856</td>\n",
       "    </tr>\n",
       "    <tr>\n",
       "      <th>297</th>\n",
       "      <td>SUN</td>\n",
       "      <td>Friedman Memorial Airport</td>\n",
       "      <td>Hailey</td>\n",
       "      <td>ID</td>\n",
       "      <td>USA</td>\n",
       "      <td>43.50484</td>\n",
       "      <td>-114.29659</td>\n",
       "    </tr>\n",
       "    <tr>\n",
       "      <th>298</th>\n",
       "      <td>SUX</td>\n",
       "      <td>Sioux Gateway Airport</td>\n",
       "      <td>Sioux City</td>\n",
       "      <td>IA</td>\n",
       "      <td>USA</td>\n",
       "      <td>42.40260</td>\n",
       "      <td>-96.38437</td>\n",
       "    </tr>\n",
       "    <tr>\n",
       "      <th>299</th>\n",
       "      <td>SWF</td>\n",
       "      <td>Stewart International Airport</td>\n",
       "      <td>Newburgh</td>\n",
       "      <td>NY</td>\n",
       "      <td>USA</td>\n",
       "      <td>41.50409</td>\n",
       "      <td>-74.10484</td>\n",
       "    </tr>\n",
       "    <tr>\n",
       "      <th>300</th>\n",
       "      <td>SYR</td>\n",
       "      <td>Syracuse Hancock International Airport</td>\n",
       "      <td>Syracuse</td>\n",
       "      <td>NY</td>\n",
       "      <td>USA</td>\n",
       "      <td>43.11119</td>\n",
       "      <td>-76.10631</td>\n",
       "    </tr>\n",
       "    <tr>\n",
       "      <th>301</th>\n",
       "      <td>TLH</td>\n",
       "      <td>Tallahassee International Airport</td>\n",
       "      <td>Tallahassee</td>\n",
       "      <td>FL</td>\n",
       "      <td>USA</td>\n",
       "      <td>30.39653</td>\n",
       "      <td>-84.35033</td>\n",
       "    </tr>\n",
       "    <tr>\n",
       "      <th>302</th>\n",
       "      <td>TOL</td>\n",
       "      <td>Toledo Express Airport</td>\n",
       "      <td>Toledo</td>\n",
       "      <td>OH</td>\n",
       "      <td>USA</td>\n",
       "      <td>41.58681</td>\n",
       "      <td>-83.80783</td>\n",
       "    </tr>\n",
       "    <tr>\n",
       "      <th>303</th>\n",
       "      <td>TPA</td>\n",
       "      <td>Tampa International Airport</td>\n",
       "      <td>Tampa</td>\n",
       "      <td>FL</td>\n",
       "      <td>USA</td>\n",
       "      <td>27.97547</td>\n",
       "      <td>-82.53325</td>\n",
       "    </tr>\n",
       "    <tr>\n",
       "      <th>304</th>\n",
       "      <td>TRI</td>\n",
       "      <td>Tri-Cities Regional Airport</td>\n",
       "      <td>Bristol</td>\n",
       "      <td>TN</td>\n",
       "      <td>USA</td>\n",
       "      <td>36.47521</td>\n",
       "      <td>-82.40742</td>\n",
       "    </tr>\n",
       "    <tr>\n",
       "      <th>305</th>\n",
       "      <td>TTN</td>\n",
       "      <td>Trenton Mercer Airport</td>\n",
       "      <td>Trenton</td>\n",
       "      <td>NJ</td>\n",
       "      <td>USA</td>\n",
       "      <td>40.27669</td>\n",
       "      <td>-74.81347</td>\n",
       "    </tr>\n",
       "    <tr>\n",
       "      <th>306</th>\n",
       "      <td>TUL</td>\n",
       "      <td>Tulsa International Airport</td>\n",
       "      <td>Tulsa</td>\n",
       "      <td>OK</td>\n",
       "      <td>USA</td>\n",
       "      <td>36.19837</td>\n",
       "      <td>-95.88824</td>\n",
       "    </tr>\n",
       "    <tr>\n",
       "      <th>307</th>\n",
       "      <td>TUS</td>\n",
       "      <td>Tucson International Airport</td>\n",
       "      <td>Tucson</td>\n",
       "      <td>AZ</td>\n",
       "      <td>USA</td>\n",
       "      <td>32.11608</td>\n",
       "      <td>-110.94103</td>\n",
       "    </tr>\n",
       "    <tr>\n",
       "      <th>308</th>\n",
       "      <td>TVC</td>\n",
       "      <td>Cherry Capital Airport</td>\n",
       "      <td>Traverse City</td>\n",
       "      <td>MI</td>\n",
       "      <td>USA</td>\n",
       "      <td>44.74144</td>\n",
       "      <td>-85.58224</td>\n",
       "    </tr>\n",
       "    <tr>\n",
       "      <th>309</th>\n",
       "      <td>TWF</td>\n",
       "      <td>Magic Valley Regional Airport (Joslin Field)</td>\n",
       "      <td>Twin Falls</td>\n",
       "      <td>ID</td>\n",
       "      <td>USA</td>\n",
       "      <td>42.48180</td>\n",
       "      <td>-114.48774</td>\n",
       "    </tr>\n",
       "    <tr>\n",
       "      <th>310</th>\n",
       "      <td>TXK</td>\n",
       "      <td>Texarkana Regional Airport (Webb Field)</td>\n",
       "      <td>Texarkana</td>\n",
       "      <td>AR</td>\n",
       "      <td>USA</td>\n",
       "      <td>33.45371</td>\n",
       "      <td>-93.99102</td>\n",
       "    </tr>\n",
       "    <tr>\n",
       "      <th>311</th>\n",
       "      <td>TYR</td>\n",
       "      <td>Tyler Pounds Regional Airport</td>\n",
       "      <td>Tyler</td>\n",
       "      <td>TX</td>\n",
       "      <td>USA</td>\n",
       "      <td>32.35414</td>\n",
       "      <td>-95.40239</td>\n",
       "    </tr>\n",
       "    <tr>\n",
       "      <th>312</th>\n",
       "      <td>TYS</td>\n",
       "      <td>McGhee Tyson Airport</td>\n",
       "      <td>Knoxville</td>\n",
       "      <td>TN</td>\n",
       "      <td>USA</td>\n",
       "      <td>35.81249</td>\n",
       "      <td>-83.99286</td>\n",
       "    </tr>\n",
       "    <tr>\n",
       "      <th>313</th>\n",
       "      <td>UST</td>\n",
       "      <td>Northeast Florida Regional Airport (St. August...</td>\n",
       "      <td>St. Augustine</td>\n",
       "      <td>FL</td>\n",
       "      <td>USA</td>\n",
       "      <td>NaN</td>\n",
       "      <td>NaN</td>\n",
       "    </tr>\n",
       "    <tr>\n",
       "      <th>314</th>\n",
       "      <td>VEL</td>\n",
       "      <td>Valdez Airport</td>\n",
       "      <td>Vernal</td>\n",
       "      <td>UT</td>\n",
       "      <td>USA</td>\n",
       "      <td>40.44090</td>\n",
       "      <td>-109.50992</td>\n",
       "    </tr>\n",
       "    <tr>\n",
       "      <th>315</th>\n",
       "      <td>VLD</td>\n",
       "      <td>Valdosta Regional Airport</td>\n",
       "      <td>Valdosta</td>\n",
       "      <td>GA</td>\n",
       "      <td>USA</td>\n",
       "      <td>30.78250</td>\n",
       "      <td>-83.27672</td>\n",
       "    </tr>\n",
       "    <tr>\n",
       "      <th>316</th>\n",
       "      <td>VPS</td>\n",
       "      <td>Destin-Fort Walton Beach Airport/Eglin AFB</td>\n",
       "      <td>Valparaiso</td>\n",
       "      <td>FL</td>\n",
       "      <td>USA</td>\n",
       "      <td>30.48325</td>\n",
       "      <td>-86.52540</td>\n",
       "    </tr>\n",
       "    <tr>\n",
       "      <th>317</th>\n",
       "      <td>WRG</td>\n",
       "      <td>Wrangell Airport</td>\n",
       "      <td>Wrangell</td>\n",
       "      <td>AK</td>\n",
       "      <td>USA</td>\n",
       "      <td>56.48433</td>\n",
       "      <td>-132.36982</td>\n",
       "    </tr>\n",
       "    <tr>\n",
       "      <th>318</th>\n",
       "      <td>WYS</td>\n",
       "      <td>Westerly State Airport</td>\n",
       "      <td>West Yellowstone</td>\n",
       "      <td>MT</td>\n",
       "      <td>USA</td>\n",
       "      <td>44.68840</td>\n",
       "      <td>-111.11764</td>\n",
       "    </tr>\n",
       "    <tr>\n",
       "      <th>319</th>\n",
       "      <td>XNA</td>\n",
       "      <td>Northwest Arkansas Regional Airport</td>\n",
       "      <td>Fayetteville/Springdale/Rogers</td>\n",
       "      <td>AR</td>\n",
       "      <td>USA</td>\n",
       "      <td>36.28187</td>\n",
       "      <td>-94.30681</td>\n",
       "    </tr>\n",
       "    <tr>\n",
       "      <th>320</th>\n",
       "      <td>YAK</td>\n",
       "      <td>Yakutat Airport</td>\n",
       "      <td>Yakutat</td>\n",
       "      <td>AK</td>\n",
       "      <td>USA</td>\n",
       "      <td>59.50336</td>\n",
       "      <td>-139.66023</td>\n",
       "    </tr>\n",
       "    <tr>\n",
       "      <th>321</th>\n",
       "      <td>YUM</td>\n",
       "      <td>Yuma International Airport</td>\n",
       "      <td>Yuma</td>\n",
       "      <td>AZ</td>\n",
       "      <td>USA</td>\n",
       "      <td>32.65658</td>\n",
       "      <td>-114.60597</td>\n",
       "    </tr>\n",
       "  </tbody>\n",
       "</table>\n",
       "<p>322 rows × 7 columns</p>\n",
       "</div>"
      ],
      "text/plain": [
       "    IATA_CODE                                            AIRPORT  \\\n",
       "0         ABE                Lehigh Valley International Airport   \n",
       "1         ABI                           Abilene Regional Airport   \n",
       "2         ABQ                  Albuquerque International Sunport   \n",
       "3         ABR                          Aberdeen Regional Airport   \n",
       "4         ABY                 Southwest Georgia Regional Airport   \n",
       "5         ACK                         Nantucket Memorial Airport   \n",
       "6         ACT                              Waco Regional Airport   \n",
       "7         ACV                                     Arcata Airport   \n",
       "8         ACY                Atlantic City International Airport   \n",
       "9         ADK                                       Adak Airport   \n",
       "10        ADQ                                     Kodiak Airport   \n",
       "11        AEX                   Alexandria International Airport   \n",
       "12        AGS              Augusta Regional Airport (Bush Field)   \n",
       "13        AKN                                King Salmon Airport   \n",
       "14        ALB                       Albany International Airport   \n",
       "15        ALO                          Waterloo Regional Airport   \n",
       "16        AMA        Rick Husband Amarillo International Airport   \n",
       "17        ANC        Ted Stevens Anchorage International Airport   \n",
       "18        APN                     Alpena County Regional Airport   \n",
       "19        ASE                        Aspen-Pitkin County Airport   \n",
       "20        ATL   Hartsfield-Jackson Atlanta International Airport   \n",
       "21        ATW                     Appleton International Airport   \n",
       "22        AUS             Austin-Bergstrom International Airport   \n",
       "23        AVL                         Asheville Regional Airport   \n",
       "24        AVP        Wilkes-Barre/Scranton International Airport   \n",
       "25        AZO       Kalamazoo/Battle Creek International Airport   \n",
       "26        BDL                      Bradley International Airport   \n",
       "27        BET                                     Bethel Airport   \n",
       "28        BFL                                      Meadows Field   \n",
       "29        BGM                         Greater Binghamton Airport   \n",
       "..        ...                                                ...   \n",
       "292       SRQ           Sarasota-Bradenton International Airport   \n",
       "293       STC                         St. Cloud Regional Airport   \n",
       "294       STL   St. Louis International Airport at Lambert Field   \n",
       "295       STT                              Cyril E. King Airport   \n",
       "296       STX                           Henry E. Rohlsen Airport   \n",
       "297       SUN                          Friedman Memorial Airport   \n",
       "298       SUX                              Sioux Gateway Airport   \n",
       "299       SWF                      Stewart International Airport   \n",
       "300       SYR             Syracuse Hancock International Airport   \n",
       "301       TLH                  Tallahassee International Airport   \n",
       "302       TOL                             Toledo Express Airport   \n",
       "303       TPA                        Tampa International Airport   \n",
       "304       TRI                        Tri-Cities Regional Airport   \n",
       "305       TTN                             Trenton Mercer Airport   \n",
       "306       TUL                        Tulsa International Airport   \n",
       "307       TUS                       Tucson International Airport   \n",
       "308       TVC                             Cherry Capital Airport   \n",
       "309       TWF       Magic Valley Regional Airport (Joslin Field)   \n",
       "310       TXK            Texarkana Regional Airport (Webb Field)   \n",
       "311       TYR                      Tyler Pounds Regional Airport   \n",
       "312       TYS                               McGhee Tyson Airport   \n",
       "313       UST  Northeast Florida Regional Airport (St. August...   \n",
       "314       VEL                                     Valdez Airport   \n",
       "315       VLD                          Valdosta Regional Airport   \n",
       "316       VPS         Destin-Fort Walton Beach Airport/Eglin AFB   \n",
       "317       WRG                                   Wrangell Airport   \n",
       "318       WYS                             Westerly State Airport   \n",
       "319       XNA                Northwest Arkansas Regional Airport   \n",
       "320       YAK                                    Yakutat Airport   \n",
       "321       YUM                         Yuma International Airport   \n",
       "\n",
       "                               CITY STATE COUNTRY  LATITUDE  LONGITUDE  \n",
       "0                         Allentown    PA     USA  40.65236  -75.44040  \n",
       "1                           Abilene    TX     USA  32.41132  -99.68190  \n",
       "2                       Albuquerque    NM     USA  35.04022 -106.60919  \n",
       "3                          Aberdeen    SD     USA  45.44906  -98.42183  \n",
       "4                            Albany    GA     USA  31.53552  -84.19447  \n",
       "5                         Nantucket    MA     USA  41.25305  -70.06018  \n",
       "6                              Waco    TX     USA  31.61129  -97.23052  \n",
       "7                     Arcata/Eureka    CA     USA  40.97812 -124.10862  \n",
       "8                     Atlantic City    NJ     USA  39.45758  -74.57717  \n",
       "9                              Adak    AK     USA  51.87796 -176.64603  \n",
       "10                           Kodiak    AK     USA  57.74997 -152.49386  \n",
       "11                       Alexandria    LA     USA  31.32737  -92.54856  \n",
       "12                          Augusta    GA     USA  33.36996  -81.96450  \n",
       "13                      King Salmon    AK     USA  58.67680 -156.64922  \n",
       "14                           Albany    NY     USA  42.74812  -73.80298  \n",
       "15                         Waterloo    IA     USA  42.55708  -92.40034  \n",
       "16                         Amarillo    TX     USA  35.21937 -101.70593  \n",
       "17                        Anchorage    AK     USA  61.17432 -149.99619  \n",
       "18                           Alpena    MI     USA  45.07807  -83.56029  \n",
       "19                            Aspen    CO     USA  39.22316 -106.86885  \n",
       "20                          Atlanta    GA     USA  33.64044  -84.42694  \n",
       "21                         Appleton    WI     USA  44.25741  -88.51948  \n",
       "22                           Austin    TX     USA  30.19453  -97.66987  \n",
       "23                        Asheville    NC     USA  35.43619  -82.54181  \n",
       "24            Wilkes-Barre/Scranton    PA     USA  41.33815  -75.72427  \n",
       "25                        Kalamazoo    MI     USA  42.23488  -85.55206  \n",
       "26                    Windsor Locks    CT     USA  41.93887  -72.68323  \n",
       "27                           Bethel    AK     USA  60.77978 -161.83800  \n",
       "28                      Bakersfield    CA     USA  35.43360 -119.05677  \n",
       "29                       Binghamton    NY     USA  42.20848  -75.97961  \n",
       "..                              ...   ...     ...       ...        ...  \n",
       "292                        Sarasota    FL     USA  27.39533  -82.55411  \n",
       "293                        St Cloud    MN     USA  45.54532  -94.05834  \n",
       "294                        St Louis    MO     USA  38.74769  -90.35999  \n",
       "295                Charlotte Amalie    VI     USA  18.33731  -64.97336  \n",
       "296                   Christiansted    VI     USA  17.70189  -64.79856  \n",
       "297                          Hailey    ID     USA  43.50484 -114.29659  \n",
       "298                      Sioux City    IA     USA  42.40260  -96.38437  \n",
       "299                        Newburgh    NY     USA  41.50409  -74.10484  \n",
       "300                        Syracuse    NY     USA  43.11119  -76.10631  \n",
       "301                     Tallahassee    FL     USA  30.39653  -84.35033  \n",
       "302                          Toledo    OH     USA  41.58681  -83.80783  \n",
       "303                           Tampa    FL     USA  27.97547  -82.53325  \n",
       "304                         Bristol    TN     USA  36.47521  -82.40742  \n",
       "305                         Trenton    NJ     USA  40.27669  -74.81347  \n",
       "306                           Tulsa    OK     USA  36.19837  -95.88824  \n",
       "307                          Tucson    AZ     USA  32.11608 -110.94103  \n",
       "308                   Traverse City    MI     USA  44.74144  -85.58224  \n",
       "309                      Twin Falls    ID     USA  42.48180 -114.48774  \n",
       "310                       Texarkana    AR     USA  33.45371  -93.99102  \n",
       "311                           Tyler    TX     USA  32.35414  -95.40239  \n",
       "312                       Knoxville    TN     USA  35.81249  -83.99286  \n",
       "313                   St. Augustine    FL     USA       NaN        NaN  \n",
       "314                          Vernal    UT     USA  40.44090 -109.50992  \n",
       "315                        Valdosta    GA     USA  30.78250  -83.27672  \n",
       "316                      Valparaiso    FL     USA  30.48325  -86.52540  \n",
       "317                        Wrangell    AK     USA  56.48433 -132.36982  \n",
       "318                West Yellowstone    MT     USA  44.68840 -111.11764  \n",
       "319  Fayetteville/Springdale/Rogers    AR     USA  36.28187  -94.30681  \n",
       "320                         Yakutat    AK     USA  59.50336 -139.66023  \n",
       "321                            Yuma    AZ     USA  32.65658 -114.60597  \n",
       "\n",
       "[322 rows x 7 columns]"
      ]
     },
     "execution_count": 9,
     "metadata": {},
     "output_type": "execute_result"
    }
   ],
   "source": [
    "airports.infer_objects()"
   ]
  },
  {
   "cell_type": "markdown",
   "metadata": {
    "slideshow": {
     "slide_type": "slide"
    }
   },
   "source": [
    "### Quick knowledge check:"
   ]
  },
  {
   "cell_type": "markdown",
   "metadata": {
    "slideshow": {
     "slide_type": "fragment"
    }
   },
   "source": [
    "- Where can you find the list of available attributes and methods for a pre-created class?"
   ]
  },
  {
   "cell_type": "markdown",
   "metadata": {
    "slideshow": {
     "slide_type": "fragment"
    }
   },
   "source": [
    "- what's the key difference between an attribute and a method?"
   ]
  },
  {
   "cell_type": "markdown",
   "metadata": {
    "slideshow": {
     "slide_type": "fragment"
    }
   },
   "source": [
    "- What is the appropriate sequence of these words?  A variable becomes an _______ when you _______ a _______ .\n",
    " - A: Initialize\n",
    " - B: Class\n",
    " - C: Object"
   ]
  },
  {
   "cell_type": "markdown",
   "metadata": {
    "slideshow": {
     "slide_type": "slide"
    }
   },
   "source": [
    "### So creating a _class_ is essentially creating a _blueprint_ for how you want to store and manipulate data.\n",
    "\n",
    "![blueprint](img/blueprint.jpeg)"
   ]
  },
  {
   "cell_type": "markdown",
   "metadata": {
    "slideshow": {
     "slide_type": "slide"
    }
   },
   "source": [
    "### Let's start by making a car `class` and giving it some `attributes`"
   ]
  },
  {
   "cell_type": "code",
   "execution_count": 10,
   "metadata": {
    "slideshow": {
     "slide_type": "fragment"
    }
   },
   "outputs": [],
   "source": [
    "class Car():\n",
    "    pass"
   ]
  },
  {
   "cell_type": "code",
   "execution_count": 11,
   "metadata": {
    "slideshow": {
     "slide_type": "fragment"
    }
   },
   "outputs": [],
   "source": [
    "ferrari = Car()\n",
    "lambo = Car()"
   ]
  },
  {
   "cell_type": "markdown",
   "metadata": {
    "slideshow": {
     "slide_type": "slide"
    }
   },
   "source": [
    "#### Check the class of lambo"
   ]
  },
  {
   "cell_type": "code",
   "execution_count": 12,
   "metadata": {
    "slideshow": {
     "slide_type": "fragment"
    }
   },
   "outputs": [
    {
     "data": {
      "text/plain": [
       "__main__.Car"
      ]
     },
     "execution_count": 12,
     "metadata": {},
     "output_type": "execute_result"
    }
   ],
   "source": [
    "type(lambo)"
   ]
  },
  {
   "cell_type": "code",
   "execution_count": 13,
   "metadata": {},
   "outputs": [
    {
     "data": {
      "text/plain": [
       "<__main__.Car at 0x11ba56be0>"
      ]
     },
     "execution_count": 13,
     "metadata": {},
     "output_type": "execute_result"
    }
   ],
   "source": [
    "lambo"
   ]
  },
  {
   "cell_type": "markdown",
   "metadata": {
    "slideshow": {
     "slide_type": "slide"
    }
   },
   "source": [
    "#### Can assign attributes to a class object after it's been defined and intitialized"
   ]
  },
  {
   "cell_type": "code",
   "execution_count": 14,
   "metadata": {
    "slideshow": {
     "slide_type": "fragment"
    }
   },
   "outputs": [
    {
     "data": {
      "text/plain": [
       "200"
      ]
     },
     "execution_count": 14,
     "metadata": {},
     "output_type": "execute_result"
    }
   ],
   "source": [
    "ferrari.max_speed = 200\n",
    "ferrari.max_speed"
   ]
  },
  {
   "cell_type": "code",
   "execution_count": 17,
   "metadata": {},
   "outputs": [],
   "source": [
    "class Car():\n",
    "    wheels = 4\n",
    "    def __init__(self, max_speed, c_type):\n",
    "        self.max_speed = max_speed\n",
    "        self.c_type = c_type"
   ]
  },
  {
   "cell_type": "code",
   "execution_count": 18,
   "metadata": {},
   "outputs": [],
   "source": [
    "lambo = Car(200, 'sport')"
   ]
  },
  {
   "cell_type": "markdown",
   "metadata": {
    "slideshow": {
     "slide_type": "slide"
    }
   },
   "source": [
    "#### But what if we try to return the `max_speed` of lambo?"
   ]
  },
  {
   "cell_type": "code",
   "execution_count": 20,
   "metadata": {
    "slideshow": {
     "slide_type": "fragment"
    }
   },
   "outputs": [
    {
     "data": {
      "text/plain": [
       "200"
      ]
     },
     "execution_count": 20,
     "metadata": {},
     "output_type": "execute_result"
    }
   ],
   "source": [
    "lambo.max_speed"
   ]
  },
  {
   "cell_type": "markdown",
   "metadata": {
    "slideshow": {
     "slide_type": "slide"
    }
   },
   "source": [
    "#### Let's update our car class so it has more attributes"
   ]
  },
  {
   "cell_type": "code",
   "execution_count": 25,
   "metadata": {
    "slideshow": {
     "slide_type": "fragment"
    }
   },
   "outputs": [],
   "source": [
    "class Car():\n",
    "    wheels = 4"
   ]
  },
  {
   "cell_type": "code",
   "execution_count": 26,
   "metadata": {
    "slideshow": {
     "slide_type": "fragment"
    }
   },
   "outputs": [
    {
     "data": {
      "text/plain": [
       "4"
      ]
     },
     "execution_count": 26,
     "metadata": {},
     "output_type": "execute_result"
    }
   ],
   "source": [
    "ford = Car()\n",
    "ford.wheels"
   ]
  },
  {
   "cell_type": "markdown",
   "metadata": {
    "slideshow": {
     "slide_type": "slide"
    }
   },
   "source": [
    "#### What if we wanted to set some parameters when we initialize the object?"
   ]
  },
  {
   "cell_type": "code",
   "execution_count": 27,
   "metadata": {},
   "outputs": [],
   "source": [
    "class Car():\n",
    "    wheels = 4\n",
    "    def __init__(self, max_speed, c_type):\n",
    "        self.max_speed = max_speed\n",
    "        self.c_type = c_type"
   ]
  },
  {
   "cell_type": "code",
   "execution_count": 28,
   "metadata": {},
   "outputs": [],
   "source": [
    "lambo = Car(200, 'sport')"
   ]
  },
  {
   "cell_type": "markdown",
   "metadata": {
    "slideshow": {
     "slide_type": "slide"
    }
   },
   "source": [
    "#### Confirm our assignment worked"
   ]
  },
  {
   "cell_type": "code",
   "execution_count": 29,
   "metadata": {},
   "outputs": [
    {
     "name": "stdout",
     "output_type": "stream",
     "text": [
      "4\n",
      "200\n",
      "sport\n"
     ]
    }
   ],
   "source": [
    "print(lambo.wheels)\n",
    "print(lambo.max_speed)\n",
    "print(lambo.c_type)"
   ]
  },
  {
   "cell_type": "markdown",
   "metadata": {},
   "source": [
    "#### What if you try to initialize it without one of the terms?"
   ]
  },
  {
   "cell_type": "code",
   "execution_count": 30,
   "metadata": {},
   "outputs": [
    {
     "ename": "TypeError",
     "evalue": "__init__() missing 1 required positional argument: 'c_type'",
     "output_type": "error",
     "traceback": [
      "\u001b[0;31m---------------------------------------------------------------------------\u001b[0m",
      "\u001b[0;31mTypeError\u001b[0m                                 Traceback (most recent call last)",
      "\u001b[0;32m<ipython-input-30-4d3a40aca94d>\u001b[0m in \u001b[0;36m<module>\u001b[0;34m\u001b[0m\n\u001b[0;32m----> 1\u001b[0;31m \u001b[0mtest\u001b[0m \u001b[0;34m=\u001b[0m \u001b[0mCar\u001b[0m\u001b[0;34m(\u001b[0m\u001b[0;36m55\u001b[0m\u001b[0;34m)\u001b[0m\u001b[0;34m\u001b[0m\u001b[0;34m\u001b[0m\u001b[0m\n\u001b[0m",
      "\u001b[0;31mTypeError\u001b[0m: __init__() missing 1 required positional argument: 'c_type'"
     ]
    }
   ],
   "source": [
    "test = Car(55)"
   ]
  },
  {
   "cell_type": "markdown",
   "metadata": {
    "slideshow": {
     "slide_type": "slide"
    }
   },
   "source": [
    "## Now let's create a method for our car class"
   ]
  },
  {
   "cell_type": "code",
   "execution_count": 31,
   "metadata": {
    "slideshow": {
     "slide_type": "fragment"
    }
   },
   "outputs": [],
   "source": [
    "class Car():\n",
    "    wheels = 4\n",
    "    def __init__(self, max_speed, c_type):\n",
    "        self.max_speed = max_speed\n",
    "        self.c_type = c_type\n",
    "    def go(self):\n",
    "        print('going')\n",
    "        self.moving = True\n"
   ]
  },
  {
   "cell_type": "code",
   "execution_count": null,
   "metadata": {
    "slideshow": {
     "slide_type": "skip"
    }
   },
   "outputs": [],
   "source": []
  },
  {
   "cell_type": "markdown",
   "metadata": {
    "slideshow": {
     "slide_type": "slide"
    }
   },
   "source": [
    "#### **Task** create another method for car `stop`\n",
    "\n",
    "- stop should print 'stopped'\n",
    "- stop should set the attribute `moving` to `False`"
   ]
  },
  {
   "cell_type": "code",
   "execution_count": 37,
   "metadata": {
    "slideshow": {
     "slide_type": "skip"
    }
   },
   "outputs": [],
   "source": [
    "class Car():\n",
    "    wheels = 4\n",
    "    def __init__(self, max_speed, c_type):\n",
    "        self.max_speed = max_speed\n",
    "        self.c_type = c_type\n",
    "    def go(self):\n",
    "        print('going')\n",
    "        self.moving = True\n",
    "    def stop(self):\n",
    "        print('stopped')\n",
    "        self.moving = False"
   ]
  },
  {
   "cell_type": "code",
   "execution_count": 40,
   "metadata": {},
   "outputs": [],
   "source": [
    "scion=Car(120, 'normal')"
   ]
  },
  {
   "cell_type": "code",
   "execution_count": 43,
   "metadata": {},
   "outputs": [
    {
     "name": "stdout",
     "output_type": "stream",
     "text": [
      "going\n"
     ]
    }
   ],
   "source": [
    "class Car():\n",
    "    wheels = 4\n",
    "    def __init__(self, max_speed, c_type):\n",
    "        self.max_speed = max_speed\n",
    "        self.c_type = c_type\n",
    "    def go(self):\n",
    "        print('going')\n",
    "        self.moving = True\n",
    "    def stop(self):\n",
    "        print('stopped')\n",
    "        self.moving = False"
   ]
  },
  {
   "cell_type": "markdown",
   "metadata": {
    "slideshow": {
     "slide_type": "slide"
    }
   },
   "source": [
    "**Task**: Make a pizza class<br>\n",
    "\n",
    "- Pizza should take one topping and the size of the pizza when instantiated\n",
    "- Pizza should have an attribute `toppings` that stores toppings in a list\n",
    "- Pizza should have methods `.add_topping`, `print_toppings`, and `remove_topping`"
   ]
  },
  {
   "cell_type": "markdown",
   "metadata": {
    "slideshow": {
     "slide_type": "slide"
    }
   },
   "source": [
    "**Extra Credit**\n",
    "\n",
    "- Pizza should have an attribute \"order_status\" that starts as equaling `none`. order_status should change depending on the methods:\n",
    " - `done_adjusting_order`\n",
    " - `preparing`\n",
    " - `delivering`\n",
    " - `delivered` \n",
    "- order_status, when called, should return in the form of a sentence. "
   ]
  },
  {
   "cell_type": "code",
   "execution_count": null,
   "metadata": {},
   "outputs": [],
   "source": [
    "def go(self):\n",
    "        print('going')\n",
    "        self.moving = True"
   ]
  },
  {
   "cell_type": "code",
   "execution_count": null,
   "metadata": {},
   "outputs": [],
   "source": []
  },
  {
   "cell_type": "code",
   "execution_count": null,
   "metadata": {},
   "outputs": [],
   "source": []
  },
  {
   "cell_type": "markdown",
   "metadata": {
    "slideshow": {
     "slide_type": "slide"
    }
   },
   "source": [
    "### Integration\n",
    "Make a plan for a stock class\n",
    "\n",
    "- What would you want it to take when instantiated?\n",
    "- what methods would you want it to have?\n",
    "- for predicting, would you want it to default to one modeling technique? or would you be able to specify?\n",
    "- What input data would it take?\n",
    "- What attributes would you want to be able to reference?"
   ]
  },
  {
   "cell_type": "markdown",
   "metadata": {
    "slideshow": {
     "slide_type": "slide"
    }
   },
   "source": [
    "## Assessment:\n",
    "\n",
    "![greg](img/thinking.jpeg)\n",
    "\n",
    "It's Greg again. <br>\n",
    "You overhear him talking to his peers about how OOB is irrelevant to the data science skill set. <br>\n",
    "When Greg meets with you for his one-on-one, how would you correct him?"
   ]
  },
  {
   "cell_type": "markdown",
   "metadata": {
    "slideshow": {
     "slide_type": "slide"
    }
   },
   "source": [
    "## Reflection\n",
    "\n",
    "![traffic](img/stoplight.jpeg)\n",
    "\n",
    "- One item you feel green -  ready to go on\n",
    "- One item you feel yellow - kind of get but not quite\n",
    "- One item you feel red - absolutely do not get"
   ]
  },
  {
   "cell_type": "markdown",
   "metadata": {},
   "source": [
    "## Part 2 - The simulation lab from learn.co\n",
    "Later today."
   ]
  }
 ],
 "metadata": {
  "kernelspec": {
   "display_name": "Python 3",
   "language": "python",
   "name": "python3"
  },
  "language_info": {
   "codemirror_mode": {
    "name": "ipython",
    "version": 3
   },
   "file_extension": ".py",
   "mimetype": "text/x-python",
   "name": "python",
   "nbconvert_exporter": "python",
   "pygments_lexer": "ipython3",
   "version": "3.7.3"
  }
 },
 "nbformat": 4,
 "nbformat_minor": 2
}
